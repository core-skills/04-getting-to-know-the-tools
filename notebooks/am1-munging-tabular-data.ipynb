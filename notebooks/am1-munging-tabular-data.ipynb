{
 "cells": [
  {
   "cell_type": "markdown",
   "metadata": {},
   "source": [
    "# Munging tabular data\n",
    "\n",
    "We're going to go through how to munge tabular data in more detail (and *slowly*). The aim is for you to get comfortable with the tools we're using:\n",
    "\n",
    "- [matplotlib](https://matplotlib.org/) for basic plotting (but allows control of many details where needed)\n",
    "- [pandas](https://pandas.pydata.org) for data handling (our dataframe library)\n",
    "- [seaborn](https://seaborn.pydata.org) for _nice_ data visualization\n",
    "- [scipy](https://scipy.org) for scientific libraries (particularly `scipy.stats` which we'll use for fitting some more unusual probability distributions), and \n",
    "- [statsmodels](https://statsmodels.org) which gives us some more expressive curve fitting approaches\n",
    "\n",
    "The other aim is to get familiar with code-sharing workflows - so we will be doing pair programming for the duration of the day! \n",
    "\n",
    "*You will probably want to take a moment to look at the documentation of the libraries above - especially `pandas`.*\n",
    "\n",
    "The other useful resource is Stack Overflow - if you have a question that sounds like 'how do I do {x}' then someone will probably have answered it on Stack Overflow. Questions are also tagged by library so if you have a particular pandas question you can do something like going to https://stackoverflow.com/questions/tagged/pandas (just replace the 'pandas' in the URL with whatever library you're trying to use.\n",
    "\n",
    "Generally answers on Stack Overflow are probably a lot closer to getting you up and running than the documentation. Once you get used to the library then the documentation is generally a quicker reference. We will cover strategies for getting help in class."
   ]
  },
  {
   "cell_type": "markdown",
   "metadata": {},
   "source": [
    "**The general data munging processes:**\n",
    "1. Reading in data\n",
    "1. What's in my data\n",
    "1. Tidy data"
   ]
  },
  {
   "cell_type": "markdown",
   "metadata": {},
   "source": [
    "## Step 1: Reading in data\n",
    "\n",
    "In pairs work out how to read your data into a pandas dataframe.\n",
    "\n",
    "If you have your own tabular data please start using it here. \n",
    "\n",
    "If not, you can use one of the datasets from last week. To pull in one of the datasets from last week, you'll need to either:\n",
    "1. copy and paste the file over, \n",
    "1. add the absolute path or \n",
    "1. construct a relative path with e.g. `pathlib.Path(\"../../other_repo/data/<filenamehere>.csv`).\n",
    "\n",
    "Alternatively, I've also created a subset from a dataset about serpentinization experiments ([Huang et al., 2020](https://doi.org/10.1002/gdj3.105)), you can read it directly from my Google Drive link using the same function you normally would with `.csv` data, using the path:\n",
    "`\"https://docs.google.com/spreadsheets/d/e/2PACX-1vS2d8Dwkhl76Xv1e9RRbO7alJB4_WDKQFxw5uRH0KFAJDyQkQyVbu9-wQeq6tg6CFPSzOuKCcdIjCua/pub?gid=1845645545&single=true&output=csv\"`. "
   ]
  },
  {
   "cell_type": "code",
   "execution_count": null,
   "metadata": {},
   "outputs": [],
   "source": [
    "import pandas as pd\n",
    "\n",
    "csv_path = 'https://docs.google.com/spreadsheets/d/e/2PACX-1vS2d8Dwkhl76Xv1e9RRbO7alJB4_WDKQFxw5uRH0KFAJDyQkQyVbu9-wQeq6tg6CFPSzOuKCcdIjCua/pub?gid=1845645545&single=true&output=csv'\n",
    "\n",
    "# your code goes here"
   ]
  },
  {
   "cell_type": "markdown",
   "metadata": {},
   "source": [
    "Once you've worked this out in the Jupyter notebook, transfer your code to a Python script (say a function called `load_data` in a file called `munging.py` in the same directory as the notebooks - you can create a text file in the Jupyter notebook home screen). Then try importing your load function with \n",
    "\n",
    "```python \n",
    "from munging import load_data\n",
    "\n",
    "df = load_data('path/to/datafile')\n",
    "```"
   ]
  },
  {
   "cell_type": "code",
   "execution_count": null,
   "metadata": {},
   "outputs": [],
   "source": []
  },
  {
   "cell_type": "markdown",
   "metadata": {},
   "source": [
    "Next work out how to access a column within your dataframe. \n",
    "\n",
    "- How can you list all the column names? \n",
    "- There are two ways to access columns by name - try to find out what both of these are. \n",
    "- There's also methods to access columns by number - try to do this as well\n",
    "\n",
    "https://pandas.pydata.org/docs/reference/api/pandas.DataFrame.columns.html\n",
    "\n",
    "https://pandas.pydata.org/docs/reference/api/pandas.DataFrame.keys.html\n",
    "\n",
    "https://pandas.pydata.org/docs/user_guide/indexing.html\n",
    "\n",
    "Next look at how to access rows - both using labels and numbers."
   ]
  },
  {
   "cell_type": "code",
   "execution_count": null,
   "metadata": {},
   "outputs": [],
   "source": []
  },
  {
   "cell_type": "markdown",
   "metadata": {},
   "source": [
    "To access records efficiently pandas can construct an index for your data. Find out how you set the index on your dataframe and pick a useful column (i.e. one that has a unique value for each record and can be sorted) and set this as the index.\n",
    "\n",
    "Try selecting data using your index (especially if you have a timeseries index)"
   ]
  },
  {
   "cell_type": "code",
   "execution_count": null,
   "metadata": {},
   "outputs": [],
   "source": []
  },
  {
   "cell_type": "markdown",
   "metadata": {},
   "source": [
    "If you get through this quickly, take a look at the [other data formats that pandas is able to read](https://pandas.pydata.org/pandas-docs/stable/reference/index.html) and find out about these online. \n",
    "- Pay particular attention to [`pandas.read_sql`](http://pandas.pydata.org/pandas-docs/stable/generated/pandas.read_sql.html#pandas.read_sql) as that's pretty useful for ripping data from databases.\n",
    "\n",
    "- If you need to read in matlab data files, `scipy.io` has a function to do so. The data will be in python dict format, which can be converted into dataframe. \n",
    "```\n",
    "from scipy.io import loadmat \n",
    "mat_data = loadmat('/path/datafile.mat')\n",
    "``` \n",
    "\n",
    "We can have a discussion about when you might like to use them. \n",
    "\n",
    "Go to [data.gov.au](https://data.gov.au) and find some other data in different formats to read and try reading it."
   ]
  },
  {
   "cell_type": "code",
   "execution_count": null,
   "metadata": {},
   "outputs": [],
   "source": []
  },
  {
   "cell_type": "markdown",
   "metadata": {},
   "source": [
    "## Step 2: What's in my data?\n",
    "\n",
    "First find the documentation in pandas on datatypes!\n",
    "\n",
    "Work through the columns in your dataset and assign them to the correct datatype.\n",
    "\n",
    "```df[COLUMN_NAME] = df[COLUMN_NAME).astype(float)```\n",
    "\n",
    "- For numerical data, how do you find its mean values, standard deviation and outliers?"
   ]
  },
  {
   "cell_type": "code",
   "execution_count": null,
   "metadata": {},
   "outputs": [],
   "source": []
  },
  {
   "cell_type": "markdown",
   "metadata": {},
   "source": [
    "- For categorical data, how do you find out the number of unique values and their counts?\n"
   ]
  },
  {
   "cell_type": "code",
   "execution_count": null,
   "metadata": {},
   "outputs": [],
   "source": []
  },
  {
   "cell_type": "markdown",
   "metadata": {},
   "source": [
    "- How to deal with missing values?\n"
   ]
  },
  {
   "cell_type": "code",
   "execution_count": null,
   "metadata": {},
   "outputs": [],
   "source": []
  },
  {
   "cell_type": "markdown",
   "metadata": {},
   "source": [
    "- How to filter out the data of interest?"
   ]
  },
  {
   "cell_type": "code",
   "execution_count": null,
   "metadata": {},
   "outputs": [],
   "source": []
  },
  {
   "cell_type": "markdown",
   "metadata": {},
   "source": [
    "How will you find incorrect values in your data? Can you write a small function to test these? For more details on Python functions you can work through [this little tutorial on DataCamp](https://www.datacamp.com/community/tutorials/functions-python-tutorial)\n",
    "\n",
    "Also take a look at the [`apply`](http://pandas.pydata.org/pandas-docs/stable/generated/pandas.DataFrame.apply.html) method for more tricky data munging that has to be carried out record-by-record\n",
    "\n",
    "Try writing a small function to apply to one of the columns in your dataframe - here's a toy example to get you started: your function could look something like:\n",
    "\n",
    "```python\n",
    "import random\n",
    "import pandas\n",
    "\n",
    "# Make some bogus data - see random_data.py for defns\n",
    "from random_data import random_dataframe\n",
    "\n",
    "df = random_dataframe(10)\n",
    "\n",
    "# Define our bogus function\n",
    "def random_replacement(record):\n",
    "    \"Some of column 'a', some of column 'b'\"\n",
    "    return random.sample([record.a, record.b], 1)[0]\n",
    "\n",
    "# Apply function once per record\n",
    "df.apply(random_replacement, axis='columns')\n",
    "```\n",
    "\n",
    "Work out how to apply a function once per column as well."
   ]
  },
  {
   "cell_type": "code",
   "execution_count": null,
   "metadata": {},
   "outputs": [],
   "source": []
  },
  {
   "cell_type": "markdown",
   "metadata": {},
   "source": [
    "### Step 3: Tidy data\n",
    "\n",
    "Work through the 'tidy data checklist' and make sure your data has been tidied!\n",
    "\n",
    "1. Each variable you measure should be in one column.\n",
    "2. Each different observation of that variable should be in a different row.\n",
    "3. There should be one table for each \"kind\" of variable.\n",
    "4. If you have multiple tables, they should include a column in the table that allows them to be linked.\n",
    "\n",
    "This is a good overview: http://www.jeannicholashould.com/tidy-data-in-python.html\n",
    "\n",
    "If your data is already tidy, try downloading the data from that tutorial and working through it instead."
   ]
  },
  {
   "cell_type": "code",
   "execution_count": null,
   "metadata": {},
   "outputs": [],
   "source": []
  },
  {
   "cell_type": "markdown",
   "metadata": {},
   "source": [
    "## Optional: Extract These Steps out to a Separate Function\n"
   ]
  },
  {
   "cell_type": "markdown",
   "metadata": {},
   "source": [
    "Once you're done with this, copy your code from steps 2 and 3 over to a Python script for easier sharing. This is an example of an extract-transform-load workflow that you could share with your IT department to run automatically when your org collects more data that is similar to this."
   ]
  },
  {
   "cell_type": "markdown",
   "metadata": {},
   "source": [
    "```python\n",
    "def load_data(csv_path):\n",
    "    \"\"\"YOUR CODE HERE\"\"\"\n",
    "    return df\n",
    "\n",
    "def process_data(df):\n",
    "    \"\"\"YOUR CODE HERE\"\"\"\n",
    "    return df_processed\n",
    "    \n",
    "from munging import load_data, process_data\n",
    "df = read_csv(csv_path)\n",
    "processed_df = process_data(df)\n",
    "```"
   ]
  },
  {
   "cell_type": "code",
   "execution_count": null,
   "metadata": {},
   "outputs": [],
   "source": []
  },
  {
   "cell_type": "markdown",
   "metadata": {},
   "source": [
    "## Extra - if you are interested in more Git materials"
   ]
  },
  {
   "cell_type": "markdown",
   "metadata": {},
   "source": [
    "We will be working through using GitHub and GitKraken to share code between pairs. We will go through all the workflow in detail in class but here are some useful links for reference:\n",
    "\n",
    "- GitKraken interface basics: https://support.gitkraken.com/start-here/interface\n",
    "- Staging and committing (save current state -> local history): https://support.gitkraken.com/working-with-commits/commits\n",
    "- Pushing and pulling (sync local history <-> GitHub history): https://support.gitkraken.com/working-with-repositories/pushing-and-pulling\n",
    "- Forking and pull requests (request to sync your GitHub history <-> someone else's history - requires a _review_):\n",
    "  - https://help.github.com/articles/about-forks/\n",
    "  - https://help.github.com/articles/creating-a-pull-request-from-a-fork/"
   ]
  },
  {
   "cell_type": "code",
   "execution_count": null,
   "metadata": {},
   "outputs": [],
   "source": []
  }
 ],
 "metadata": {
  "kernelspec": {
   "display_name": "Python 3",
   "language": "python",
   "name": "python3"
  },
  "language_info": {
   "codemirror_mode": {
    "name": "ipython",
    "version": 3
   },
   "file_extension": ".py",
   "mimetype": "text/x-python",
   "name": "python",
   "nbconvert_exporter": "python",
   "pygments_lexer": "ipython3",
   "version": "3.8.13"
  },
  "varInspector": {
   "cols": {
    "lenName": 16,
    "lenType": 16,
    "lenVar": 40
   },
   "kernels_config": {
    "python": {
     "delete_cmd_postfix": "",
     "delete_cmd_prefix": "del ",
     "library": "var_list.py",
     "varRefreshCmd": "print(var_dic_list())"
    },
    "r": {
     "delete_cmd_postfix": ") ",
     "delete_cmd_prefix": "rm(",
     "library": "var_list.r",
     "varRefreshCmd": "cat(var_dic_list()) "
    }
   },
   "types_to_exclude": [
    "module",
    "function",
    "builtin_function_or_method",
    "instance",
    "_Feature"
   ],
   "window_display": false
  }
 },
 "nbformat": 4,
 "nbformat_minor": 2
}
